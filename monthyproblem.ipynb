{
 "cells": [
  {
   "cell_type": "markdown",
   "metadata": {
    "colab_type": "text",
    "id": "lfLffNUWTQja"
   },
   "source": [
    "**Question**\n",
    "\n",
    "Given below is the description of the problem.  \n",
    "\n",
    "Suppose you're on a game show and you're given the choice of three doors. \n",
    "\n",
    "Behind one door is a car; behind the others, goats. The car and the goats were placed randomly behind the doors before the show.\n",
    "\n",
    "The rules are:\n",
    "\n",
    "After you have chosen a door, the door remains closed for the time being. \n",
    "The game show host, Monty Hall, who knows what is behind the doors, now has to open one of the two remaining doors, and the door he opens must have a goat behind it. If both remaining doors have goats behind them, he chooses one randomly. \n",
    "\n",
    "After Monty opens a door with a goat, he will ask you to decide whether you want to stay with your first choice or to switch to the last remaining door. \n",
    "Imagine that you chose Door 1 and the host opens Door 3, which has a goat. \n",
    "He then asks you \"Do you want to switch to Door Number 2?\" Is it to your advantage to change your choice? \n",
    "\n",
    "**NOTES:**\n",
    "1. The player may initially choose any of the three doors (not just Door 1).\n",
    "2. The host opens a different door revealing a goat (not necessarily Door 3).\n",
    "3. The host gives the player a second choice between the two remaining unopened doors. \n"
   ]
  },
  {
   "attachments": {
    "download.jpeg": {
     "image/jpeg": "[encoded data removed]"
    }
   },
   "cell_type": "markdown",
   "metadata": {
    "colab_type": "text",
    "id": "L041acdjTQjb"
   },
   "source": [
    "![download.jpeg](attachment:download.jpeg)\n",
    "\n",
    "(Source: https://en.wikipedia.org/wiki/Monty_Hall_problem#)"
   ]
  },
  {
   "cell_type": "markdown",
   "metadata": {
    "colab_type": "text",
    "id": "dAuGtwxzTQje"
   },
   "source": [
    "- Write Python code to solve the Monty Hall problem. Simulate at least a thousand games using three doors for each strategy and show the results in such a way as to make it easy to compare the effects of each strategy.\n"
   ]
  },
  {
   "cell_type": "code",
   "execution_count": 1,
   "metadata": {
    "colab": {},
    "colab_type": "code",
    "id": "GlZk3mKETQjg"
   },
   "outputs": [],
   "source": [
    "#your work here"
   ]
  },
  {
   "cell_type": "code",
   "execution_count": 1,
   "metadata": {},
   "outputs": [],
   "source": [
    "import numpy as np\n",
    "import pandas as pd\n",
    "import matplotlib.pyplot as plt"
   ]
  },
  {
   "cell_type": "code",
   "execution_count": 2,
   "metadata": {},
   "outputs": [],
   "source": [
    "nb_games = 1000"
   ]
  },
  {
   "cell_type": "code",
   "execution_count": 3,
   "metadata": {},
   "outputs": [],
   "source": [
    "games = []\n",
    "for i in range(nb_games):\n",
    "    game = np.repeat('goat', 3)\n",
    "    prize = np.random.randint(0,3,1) # the door behind which the car is hidden\n",
    "    game[prize]='car' \n",
    "    games.append(game)"
   ]
  },
  {
   "cell_type": "code",
   "execution_count": 4,
   "metadata": {},
   "outputs": [],
   "source": [
    "wins=0 # win counter\n",
    "for i in range(nb_games):\n",
    "    doors = [0,1,2]\n",
    "    player_door_choice = int(np.random.choice(doors, 1)) # the player initial's door choice\n",
    "    doors.remove(player_door_choice) # doors not chosen by player\n",
    "    for j in doors: # Monty Hall reveals that behind one of the door not chosen is a goat\n",
    "        if games[i][j] == 'goat':\n",
    "            goat_door = j\n",
    "    if games[i][player_door_choice] == 'car': # The player keeps his initial door choice\n",
    "        wins += 1"
   ]
  },
  {
   "cell_type": "code",
   "execution_count": 5,
   "metadata": {},
   "outputs": [
    {
     "name": "stdout",
     "output_type": "stream",
     "text": [
      "Winning percentage: 33.1%\n"
     ]
    }
   ],
   "source": [
    "print(f\"Winning percentage: {round(wins/nb_games*100,1)}%\")"
   ]
  },
  {
   "cell_type": "code",
   "execution_count": 6,
   "metadata": {},
   "outputs": [
    {
     "data": {
      "image/png": "[encoded data removed]",
      "text/plain": [
       "<Figure size 432x288 with 1 Axes>"
      ]
     },
     "metadata": {
      "needs_background": "light"
     },
     "output_type": "display_data"
    }
   ],
   "source": [
    "x_axis = ['car', 'goat']\n",
    "y_axis = [int(wins/nb_games*100), 100 - int(wins/nb_games*100)]\n",
    "\n",
    "plt.bar(x_axis, y_axis)\n",
    "plt.title('Strategy: keep same door')\n",
    "plt.ylabel('outcome %')\n",
    "plt.show()"
   ]
  },
  {
   "cell_type": "code",
   "execution_count": 7,
   "metadata": {},
   "outputs": [],
   "source": [
    "wins=0\n",
    "for i in range(nb_games):\n",
    "    doors = [0,1,2]\n",
    "    player_door_choice = int(np.random.choice(doors, 1)) # the player initial's door choice\n",
    "    doors.remove(player_door_choice) # doors not chosen\n",
    "    for j in doors: # Monty Hall reveals that behind one of the door not chosen is a goat\n",
    "        if games[i][j] == 'goat':\n",
    "            goat_door = j\n",
    "    doors.remove(goat_door) # the player changes its door choice\n",
    "    if games[i][doors[0]] == 'car':\n",
    "        wins += 1"
   ]
  },
  {
   "cell_type": "code",
   "execution_count": 8,
   "metadata": {},
   "outputs": [
    {
     "name": "stdout",
     "output_type": "stream",
     "text": [
      "Winning percentage: 66.7%\n"
     ]
    }
   ],
   "source": [
    "print(f\"Winning percentage: {round(wins/nb_games*100,1)}%\")"
   ]
  },
  {
   "cell_type": "code",
   "execution_count": 9,
   "metadata": {},
   "outputs": [
    {
     "data": {
      "image/png": "[encoded data removed]",
      "text/plain": [
       "<Figure size 432x288 with 1 Axes>"
      ]
     },
     "metadata": {
      "needs_background": "light"
     },
     "output_type": "display_data"
    }
   ],
   "source": [
    "x_axis = ['car', 'goat']\n",
    "y_axis = [int(wins/nb_games*100), 100 - int(wins/nb_games*100)]\n",
    "\n",
    "plt.bar(x_axis, y_axis)\n",
    "plt.title('Strategy: change door')\n",
    "plt.ylabel('outcome %')\n",
    "plt.show()"
   ]
  },
  {
   "cell_type": "code",
   "execution_count": 10,
   "metadata": {},
   "outputs": [],
   "source": [
    "## the door changing strategy is much better with a 66.7% change of winning, vs 33.1% if we keep the original door."
   ]
  },
  {
   "cell_type": "code",
   "execution_count": null,
   "metadata": {},
   "outputs": [],
   "source": []
  }
 ],
 "metadata": {
  "colab": {
   "name": "Assignment 2.ipynb",
   "provenance": [],
   "version": "0.3.2"
  },
  "kernelspec": {
   "display_name": "Python 3 (ipykernel)",
   "language": "python",
   "name": "python3"
  },
  "language_info": {
   "codemirror_mode": {
    "name": "ipython",
    "version": 3
   },
   "file_extension": ".py",
   "mimetype": "text/x-python",
   "name": "python",
   "nbconvert_exporter": "python",
   "pygments_lexer": "ipython3",
   "version": "3.9.7"
  }
 },
 "nbformat": 4,
 "nbformat_minor": 1
}
